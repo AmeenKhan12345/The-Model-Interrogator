{
 "cells": [
  {
   "cell_type": "markdown",
   "id": "7c8cbffa",
   "metadata": {},
   "source": [
    "# Preprocessing & Filtering"
   ]
  },
  {
   "cell_type": "code",
   "execution_count": 1,
   "id": "7c130394",
   "metadata": {},
   "outputs": [
    {
     "name": "stdout",
     "output_type": "stream",
     "text": [
      "<class 'pandas.core.frame.DataFrame'>\n",
      "RangeIndex: 116584 entries, 0 to 116583\n",
      "Data columns (total 18 columns):\n",
      " #   Column                        Non-Null Count   Dtype \n",
      "---  ------                        --------------   ----- \n",
      " 0   Date received                 116584 non-null  object\n",
      " 1   Product                       116584 non-null  object\n",
      " 2   Sub-product                   114212 non-null  object\n",
      " 3   Issue                         116584 non-null  object\n",
      " 4   Sub-issue                     107715 non-null  object\n",
      " 5   Consumer complaint narrative  34454 non-null   object\n",
      " 6   Company public response       58949 non-null   object\n",
      " 7   Company                       116584 non-null  object\n",
      " 8   State                         116008 non-null  object\n",
      " 9   ZIP code                      116286 non-null  object\n",
      " 10  Tags                          6762 non-null    object\n",
      " 11  Consumer consent provided?    97326 non-null   object\n",
      " 12  Submitted via                 116584 non-null  object\n",
      " 13  Date sent to company          116584 non-null  object\n",
      " 14  Company response to consumer  116584 non-null  object\n",
      " 15  Timely response?              116584 non-null  object\n",
      " 16  Consumer disputed?            7732 non-null    object\n",
      " 17  Complaint ID                  116584 non-null  int64 \n",
      "dtypes: int64(1), object(17)\n",
      "memory usage: 16.0+ MB\n",
      "None\n",
      "  Date received                                            Product  \\\n",
      "0    2025-09-23  Credit reporting or other personal consumer re...   \n",
      "1    2025-10-14  Credit reporting or other personal consumer re...   \n",
      "2    2025-10-10  Credit reporting or other personal consumer re...   \n",
      "3    2025-09-27  Credit reporting or other personal consumer re...   \n",
      "4    2025-10-07                                    Debt collection   \n",
      "\n",
      "               Sub-product                                              Issue  \\\n",
      "0         Credit reporting               Incorrect information on your report   \n",
      "1         Credit reporting               Incorrect information on your report   \n",
      "2         Credit reporting  Problem with a company's investigation into an...   \n",
      "3         Credit reporting               Incorrect information on your report   \n",
      "4  Telecommunications debt                  Attempts to collect debt not owed   \n",
      "\n",
      "                              Sub-issue Consumer complaint narrative  \\\n",
      "0         Account information incorrect                          NaN   \n",
      "1   Information belongs to someone else                          NaN   \n",
      "2  Investigation took more than 30 days                          NaN   \n",
      "3        Personal information incorrect                          NaN   \n",
      "4                     Debt is not yours                          NaN   \n",
      "\n",
      "                             Company public response  \\\n",
      "0                                                NaN   \n",
      "1                                                NaN   \n",
      "2                                                NaN   \n",
      "3                                                NaN   \n",
      "4  Company has responded to the consumer and the ...   \n",
      "\n",
      "                                  Company State ZIP code Tags  \\\n",
      "0  TRANSUNION INTERMEDIATE HOLDINGS, INC.    TX    78416  NaN   \n",
      "1  TRANSUNION INTERMEDIATE HOLDINGS, INC.    NY    10457  NaN   \n",
      "2  TRANSUNION INTERMEDIATE HOLDINGS, INC.    IL    60619  NaN   \n",
      "3     Experian Information Solutions Inc.    FL    33056  NaN   \n",
      "4            SUNRISE CREDIT SERVICES, INC    CA    90631  NaN   \n",
      "\n",
      "  Consumer consent provided? Submitted via Date sent to company  \\\n",
      "0                        NaN           Web           2025-09-23   \n",
      "1                        NaN           Web           2025-10-14   \n",
      "2                        NaN           Web           2025-10-10   \n",
      "3                        NaN           Web           2025-09-27   \n",
      "4                        NaN           Web           2025-10-07   \n",
      "\n",
      "  Company response to consumer Timely response? Consumer disputed?  \\\n",
      "0                  In progress              Yes                NaN   \n",
      "1                  In progress              Yes                NaN   \n",
      "2                  In progress              Yes                NaN   \n",
      "3                  In progress              Yes                NaN   \n",
      "4      Closed with explanation              Yes                NaN   \n",
      "\n",
      "   Complaint ID  \n",
      "0      16126045  \n",
      "1      16533620  \n",
      "2      16501750  \n",
      "3      16222228  \n",
      "4      16404556  \n"
     ]
    }
   ],
   "source": [
    "import pandas as pd\n",
    "import matplotlib.pyplot as plt\n",
    "import seaborn as sns\n",
    "\n",
    "# Load our new, safe, and small dataset\n",
    "df = pd.read_csv('complaints_lite.csv')\n",
    "\n",
    "# See what we're working with\n",
    "print(df.info())\n",
    "print(df.head())"
   ]
  },
  {
   "cell_type": "code",
   "execution_count": 2,
   "id": "4e802c10",
   "metadata": {},
   "outputs": [
    {
     "name": "stdout",
     "output_type": "stream",
     "text": [
      "\n",
      "Successfully filtered columns. We now have 34454 complaints to work with.\n",
      "                                                 text  \\\n",
      "15  On XX/XX/XXXX I mailed notices to all CRAs to ...   \n",
      "29  I am a victim of identity theft in which my pu...   \n",
      "43  I sent a letter off on XX/XX/2022. To remove p...   \n",
      "50  This CFPB complaint has been filed to request ...   \n",
      "59  XXXX XXXX XXXX XXXX XXXX XXXX. \\nXXXXXXXX XXXX...   \n",
      "\n",
      "                                             category  \n",
      "15  Credit reporting or other personal consumer re...  \n",
      "29  Credit reporting or other personal consumer re...  \n",
      "43  Credit reporting, credit repair services, or o...  \n",
      "50  Credit reporting or other personal consumer re...  \n",
      "59  Credit reporting or other personal consumer re...  \n"
     ]
    }
   ],
   "source": [
    "# Rename our chosen columns to the simple names we'll use in the project\n",
    "df = df.rename(columns={\n",
    "    'Consumer complaint narrative': 'text',\n",
    "    'Product': 'category'\n",
    "})\n",
    "\n",
    "# --- CRITICAL STEP ---\n",
    "# Drop all rows where the complaint text ('text') is missing (NaN)\n",
    "df = df.dropna(subset=['text', 'category'])\n",
    "\n",
    "# Keep only the two columns we will use\n",
    "df = df[['text', 'category']]\n",
    "\n",
    "print(f\"\\nSuccessfully filtered columns. We now have {len(df)} complaints to work with.\")\n",
    "print(df.head())"
   ]
  },
  {
   "cell_type": "code",
   "execution_count": 3,
   "id": "5f8746ae",
   "metadata": {},
   "outputs": [
    {
     "name": "stdout",
     "output_type": "stream",
     "text": [
      "\n",
      "--- Category Counts (Original) ---\n",
      "category\n",
      "Credit reporting or other personal consumer reports                             14460\n",
      "Credit reporting, credit repair services, or other personal consumer reports     8093\n",
      "Debt collection                                                                  3830\n",
      "Checking or savings account                                                      1530\n",
      "Mortgage                                                                         1446\n",
      "Credit card or prepaid card                                                      1074\n",
      "Money transfer, virtual currency, or money service                               1053\n",
      "Credit card                                                                       927\n",
      "Student loan                                                                      562\n",
      "Vehicle loan or lease                                                             422\n",
      "Credit reporting                                                                  326\n",
      "Payday loan, title loan, or personal loan                                         188\n",
      "Bank account or service                                                           153\n",
      "Payday loan, title loan, personal loan, or advance loan                           110\n",
      "Consumer Loan                                                                     101\n",
      "Prepaid card                                                                       97\n",
      "Debt or credit management                                                          39\n",
      "Payday loan                                                                        23\n",
      "Money transfers                                                                    18\n",
      "Virtual currency                                                                    1\n",
      "Other financial service                                                             1\n",
      "Name: count, dtype: int64\n"
     ]
    },
    {
     "data": {
      "image/png": "[encoded data removed]",
      "text/plain": [
       "<Figure size 1000x800 with 1 Axes>"
      ]
     },
     "metadata": {},
     "output_type": "display_data"
    },
    {
     "name": "stdout",
     "output_type": "stream",
     "text": [
      "\n",
      "Original count: 34454, Filtered count: 29359\n",
      "\n",
      "--- Final Category Distribution ---\n",
      "category\n",
      "Credit reporting or other personal consumer reports                             14460\n",
      "Credit reporting, credit repair services, or other personal consumer reports     8093\n",
      "Debt collection                                                                  3830\n",
      "Checking or savings account                                                      1530\n",
      "Mortgage                                                                         1446\n",
      "Name: count, dtype: int64\n"
     ]
    }
   ],
   "source": [
    "# See how many complaints are in each category\n",
    "print(\"\\n--- Category Counts (Original) ---\")\n",
    "print(df['category'].value_counts())\n",
    "\n",
    "# Plot it to see the distribution\n",
    "plt.figure(figsize=(10, 8))\n",
    "# Use '...value_counts().nlargest(15).index' to only show the top 15 in the plot\n",
    "sns.countplot(y='category', data=df, order=df['category'].value_counts().nlargest(15).index)\n",
    "plt.title('Top 15 Complaint Categories')\n",
    "plt.show()\n",
    "\n",
    "# --- IMPORTANT FILTERING STEP ---\n",
    "\n",
    "# Get the names of the top 5 most common categories\n",
    "# You can change nlargest(5) to nlargest(7) or nlargest(10) if you want more classes\n",
    "top_categories = df['category'].value_counts().nlargest(5).index\n",
    "\n",
    "# Filter the DataFrame to only keep rows with these top 5 categories\n",
    "df_final = df[df['category'].isin(top_categories)]\n",
    "\n",
    "print(f\"\\nOriginal count: {len(df)}, Filtered count: {len(df_final)}\")\n",
    "print(\"\\n--- Final Category Distribution ---\")\n",
    "print(df_final['category'].value_counts())"
   ]
  },
  {
   "cell_type": "code",
   "execution_count": 5,
   "id": "f917448f",
   "metadata": {},
   "outputs": [
    {
     "name": "stdout",
     "output_type": "stream",
     "text": [
      "Merging redundant categories...\n",
      "\n",
      "--- Final, CLEANED Category Distribution ---\n",
      "category\n",
      "Credit Reporting               22553\n",
      "Debt collection                 3830\n",
      "Checking or savings account     1530\n",
      "Mortgage                        1446\n",
      "Name: count, dtype: int64\n"
     ]
    },
    {
     "data": {
      "image/png": "[encoded data removed]",
      "text/plain": [
       "<Figure size 1000x500 with 1 Axes>"
      ]
     },
     "metadata": {},
     "output_type": "display_data"
    },
    {
     "name": "stdout",
     "output_type": "stream",
     "text": [
      "\n",
      "--- 🥳 Phase 0 Complete! ---\n",
      "Saved 'complaints_final_clean.csv' with 4 clean, distinct categories.\n",
      "This is the file we will use for all model training.\n"
     ]
    }
   ],
   "source": [
    "import pandas as pd\n",
    "import matplotlib.pyplot as plt\n",
    "import seaborn as sns\n",
    "\n",
    "# --- 1. Load the \"Lite\" Dataset ---\n",
    "df = pd.read_csv('complaints_lite.csv')\n",
    "\n",
    "# --- 2. Rename and Clean Columns ---\n",
    "df = df.rename(columns={\n",
    "    'Consumer complaint narrative': 'text',\n",
    "    'Product': 'category'\n",
    "})\n",
    "df = df.dropna(subset=['text', 'category'])\n",
    "df = df[['text', 'category']]\n",
    "\n",
    "# --- 3. MERGE Redundant Categories ---\n",
    "print(\"Merging redundant categories...\")\n",
    "\n",
    "# This map will combine the two \"Credit reporting\" labels into one\n",
    "merge_map = {\n",
    "    'Credit reporting or other personal consumer reports': 'Credit Reporting',\n",
    "    'Credit reporting, credit repair services, or other personal consumer reports': 'Credit Reporting'\n",
    "}\n",
    "\n",
    "# Apply the merge\n",
    "df['category'] = df['category'].replace(merge_map)\n",
    "\n",
    "\n",
    "# --- 4. Define Our Final, DISTINCT Categories ---\n",
    "# Now we have 4 clean, distinct categories from your \"Top 5\" list\n",
    "final_categories = [\n",
    "    'Credit Reporting',\n",
    "    'Debt collection',\n",
    "    'Checking or savings account',\n",
    "    'Mortgage'\n",
    "]\n",
    "\n",
    "# Filter the DataFrame to *only* keep rows with these 4 categories\n",
    "df_final = df[df['category'].isin(final_categories)]\n",
    "\n",
    "\n",
    "# --- 5. Verify and Save the FINAL Dataset ---\n",
    "print(\"\\n--- Final, CLEANED Category Distribution ---\")\n",
    "print(df_final['category'].value_counts())\n",
    "\n",
    "# Plot the new, clean distribution\n",
    "plt.figure(figsize=(10, 5))\n",
    "sns.countplot(y='category', data=df_final, order=df_final['category'].value_counts().index)\n",
    "plt.title('Final Cleaned Category Distribution')\n",
    "plt.show()\n",
    "\n",
    "# Save our final, clean, filtered, and perfectly-sized dataset\n",
    "df_final.to_csv('complaints_final_clean.csv', index=False)\n",
    "\n",
    "print(\"\\n--- 🥳 Phase 0 Complete! ---\")\n",
    "print(\"Saved 'complaints_final_clean.csv' with 4 clean, distinct categories.\")\n",
    "print(\"This is the file we will use for all model training.\")"
   ]
  },
  {
   "cell_type": "markdown",
   "id": "c8fb3b2d",
   "metadata": {},
   "source": [
    "# Model 1: TF-IDF + Naive Bayes"
   ]
  },
  {
   "cell_type": "code",
   "execution_count": 1,
   "id": "c298a757",
   "metadata": {},
   "outputs": [
    {
     "name": "stderr",
     "output_type": "stream",
     "text": [
      "[nltk_data] Downloading package stopwords to\n",
      "[nltk_data]     C:\\Users\\ASUS\\AppData\\Roaming\\nltk_data...\n",
      "[nltk_data]   Package stopwords is already up-to-date!\n"
     ]
    }
   ],
   "source": [
    "import pandas as pd\n",
    "import nltk\n",
    "import string\n",
    "import joblib\n",
    "\n",
    "from sklearn.model_selection import train_test_split\n",
    "from sklearn.pipeline import Pipeline\n",
    "from sklearn.feature_extraction.text import TfidfVectorizer\n",
    "from sklearn.naive_bayes import MultinomialNB\n",
    "from sklearn.metrics import classification_report\n",
    "\n",
    "# Download the NLTK stopwords list\n",
    "# This only needs to be run once\n",
    "nltk.download('stopwords')\n",
    "from nltk.corpus import stopwords"
   ]
  },
  {
   "cell_type": "code",
   "execution_count": 2,
   "id": "2a643e85",
   "metadata": {},
   "outputs": [
    {
     "name": "stdout",
     "output_type": "stream",
     "text": [
      "Original: Hello! This is a test sentence, showing how it works.\n",
      "Cleaned:  hello test sentence showing works\n"
     ]
    }
   ],
   "source": [
    "# Create a set of stopwords for fast lookup\n",
    "stop_words = set(stopwords.words('english'))\n",
    "\n",
    "def clean_text(text):\n",
    "    \"\"\"\n",
    "    Applies all preprocessing steps to a single string of text.\n",
    "    1. Lowercase\n",
    "    2. Remove Punctuation\n",
    "    3. Remove Stopwords\n",
    "    \"\"\"\n",
    "    \n",
    "    # 1. Lowercase the text\n",
    "    text = text.lower()\n",
    "    \n",
    "    # 2. Remove punctuation\n",
    "    # Create a translation table that maps each punctuation char to None\n",
    "    translator = str.maketrans('', '', string.punctuation)\n",
    "    text = text.translate(translator)\n",
    "    \n",
    "    # 3. Remove stopwords\n",
    "    # Split text into words, filter out stopwords, and join back into a string\n",
    "    text = ' '.join([word for word in text.split() if word not in stop_words])\n",
    "    \n",
    "    return text\n",
    "\n",
    "# Let's test it on an example\n",
    "example_text = \"Hello! This is a test sentence, showing how it works.\"\n",
    "print(f\"Original: {example_text}\")\n",
    "print(f\"Cleaned:  {clean_text(example_text)}\")"
   ]
  },
  {
   "cell_type": "code",
   "execution_count": 3,
   "id": "1d3754c8",
   "metadata": {},
   "outputs": [
    {
     "name": "stdout",
     "output_type": "stream",
     "text": [
      "Training data shape: (22019,)\n",
      "Testing data shape:  (7340,)\n"
     ]
    }
   ],
   "source": [
    "# Load the dataset\n",
    "df = pd.read_csv('complaints_final_clean.csv')\n",
    "\n",
    "# Define our features (X) and target (y)\n",
    "X = df['text']\n",
    "y = df['category']\n",
    "\n",
    "# Create the train/test split\n",
    "# We use a 75/25 split and set random_state for reproducible results\n",
    "X_train, X_test, y_train, y_test = train_test_split(X, y, test_size=0.25, random_state=42, stratify=y)\n",
    "\n",
    "print(f\"Training data shape: {X_train.shape}\")\n",
    "print(f\"Testing data shape:  {X_test.shape}\")"
   ]
  },
  {
   "cell_type": "code",
   "execution_count": 4,
   "id": "4f4237ff",
   "metadata": {},
   "outputs": [
    {
     "name": "stdout",
     "output_type": "stream",
     "text": [
      "\n",
      "Training Model 1 (TF-IDF + Naive Bayes)...\n",
      "Training complete.\n",
      "✅ Model 1 successfully trained and saved to 'model_1_nb.pkl'\n"
     ]
    }
   ],
   "source": [
    "# --- Define the Model 1 Pipeline ---\n",
    "model_1 = Pipeline([\n",
    "    ('tfidf', TfidfVectorizer(preprocessor=clean_text)),\n",
    "    ('nb', MultinomialNB())\n",
    "])\n",
    "\n",
    "# --- Train the Model ---\n",
    "print(\"\\nTraining Model 1 (TF-IDF + Naive Bayes)...\")\n",
    "model_1.fit(X_train, y_train)\n",
    "print(\"Training complete.\")\n",
    "\n",
    "# --- Save the Model to Disk ---\n",
    "model_filename = 'model_1_nb.pkl'\n",
    "joblib.dump(model_1, model_filename)\n",
    "\n",
    "print(f\"✅ Model 1 successfully trained and saved to '{model_filename}'\")"
   ]
  },
  {
   "cell_type": "code",
   "execution_count": 5,
   "id": "b5162554",
   "metadata": {},
   "outputs": [
    {
     "name": "stdout",
     "output_type": "stream",
     "text": [
      "\n",
      "--- Model 1 Performance (on Test Set) ---\n",
      "                             precision    recall  f1-score   support\n",
      "\n",
      "Checking or savings account       0.99      0.30      0.46       383\n",
      "           Credit Reporting       0.81      1.00      0.90      5638\n",
      "            Debt collection       0.82      0.17      0.28       958\n",
      "                   Mortgage       0.95      0.27      0.42       361\n",
      "\n",
      "                   accuracy                           0.82      7340\n",
      "                  macro avg       0.89      0.43      0.51      7340\n",
      "               weighted avg       0.83      0.82      0.77      7340\n",
      "\n"
     ]
    }
   ],
   "source": [
    "# Get predictions on the test set\n",
    "y_pred_1 = model_1.predict(X_test)\n",
    "\n",
    "# Print a detailed classification report\n",
    "print(\"\\n--- Model 1 Performance (on Test Set) ---\")\n",
    "print(classification_report(y_test, y_pred_1))"
   ]
  },
  {
   "cell_type": "markdown",
   "id": "b175e2bc",
   "metadata": {},
   "source": [
    "# Model 2: TF-IDF + Logistic Regression"
   ]
  },
  {
   "cell_type": "code",
   "execution_count": 6,
   "id": "76d878f8",
   "metadata": {},
   "outputs": [],
   "source": [
    "from sklearn.linear_model import LogisticRegression\n",
    "import joblib\n",
    "\n",
    "# Note: We are re-using X_train, X_test, y_train, y_test, and the \n",
    "# clean_text function from the previous step. No need to reload."
   ]
  },
  {
   "cell_type": "code",
   "execution_count": 7,
   "id": "e43aac47",
   "metadata": {},
   "outputs": [
    {
     "name": "stdout",
     "output_type": "stream",
     "text": [
      "\n",
      "Training Model 2 (TF-IDF + Logistic Regression)...\n",
      "Training complete.\n",
      "✅ Model 2 successfully trained and saved to 'model_2_lr.pkl'\n"
     ]
    }
   ],
   "source": [
    "# --- Define the Model 2 Pipeline ---\n",
    "model_2 = Pipeline([\n",
    "    ('tfidf', TfidfVectorizer(preprocessor=clean_text)),\n",
    "    ('lr', LogisticRegression(max_iter=1000, random_state=42)) \n",
    "    # We add max_iter to prevent convergence warnings\n",
    "])\n",
    "\n",
    "# --- Train the Model ---\n",
    "print(\"\\nTraining Model 2 (TF-IDF + Logistic Regression)...\")\n",
    "model_2.fit(X_train, y_train)\n",
    "print(\"Training complete.\")\n",
    "\n",
    "# --- Save the Model to Disk ---\n",
    "model_filename = 'model_2_lr.pkl'\n",
    "joblib.dump(model_2, model_filename)\n",
    "\n",
    "print(f\"✅ Model 2 successfully trained and saved to '{model_filename}'\")"
   ]
  },
  {
   "cell_type": "code",
   "execution_count": 8,
   "id": "7408e154",
   "metadata": {},
   "outputs": [
    {
     "name": "stdout",
     "output_type": "stream",
     "text": [
      "\n",
      "--- Model 2 Performance (on Test Set) ---\n",
      "                             precision    recall  f1-score   support\n",
      "\n",
      "Checking or savings account       0.93      0.90      0.91       383\n",
      "           Credit Reporting       0.93      0.97      0.95      5638\n",
      "            Debt collection       0.83      0.65      0.73       958\n",
      "                   Mortgage       0.93      0.85      0.89       361\n",
      "\n",
      "                   accuracy                           0.92      7340\n",
      "                  macro avg       0.90      0.85      0.87      7340\n",
      "               weighted avg       0.92      0.92      0.92      7340\n",
      "\n"
     ]
    }
   ],
   "source": [
    "# Get predictions on the test set\n",
    "y_pred_2 = model_2.predict(X_test)\n",
    "\n",
    "# Print a detailed classification report\n",
    "print(\"\\n--- Model 2 Performance (on Test Set) ---\")\n",
    "print(classification_report(y_test, y_pred_2))"
   ]
  },
  {
   "cell_type": "markdown",
   "id": "f6b0dfa3",
   "metadata": {},
   "source": [
    "# Model 3: Word2Vec + Logistic Regression"
   ]
  },
  {
   "cell_type": "code",
   "execution_count": 11,
   "id": "97e5ffb8",
   "metadata": {},
   "outputs": [],
   "source": [
    "import gensim\n",
    "import numpy as np\n",
    "from sklearn.linear_model import LogisticRegression\n",
    "import joblib\n",
    "\n",
    "# We are re-using X_train, X_test, y_train, y_test, and the \n",
    "# clean_text function from the previous steps."
   ]
  },
  {
   "cell_type": "code",
   "execution_count": 12,
   "id": "c6ed5531",
   "metadata": {},
   "outputs": [
    {
     "name": "stdout",
     "output_type": "stream",
     "text": [
      "Preparing data for Word2Vec...\n",
      "Example of tokenized data: ['affected', 'equifax', 'data', 'breach', 'per', '15', 'usc', '1681', 'c2', 'states', 'except', 'otherwise', 'provided', 'section', 'consumer', 'reporting', 'agency', 'shall', 'block', 'reporting', 'information', 'file', 'consumer', 'consumer', 'identifies', 'information', 'resulted', 'alleged', 'identity', 'theft', 'account', 'name', 'xxxx', 'xxxx', 'xxxxxxxx', 'account', 'name', 'xxxxxxxx', 'xxxx', 'xxxx', 'xxxx', 'account', 'name', 'xxxx', 'xxxx', 'xxxx', 'account', 'name', 'xxxx', 'xxxx', 'xxxx', 'xxxx', 'account', 'name', 'xxxx', 'xxxx', 'xxxx', 'xxxx', 'account', 'name', 'xxxx', 'xxxx', 'xxxx', 'xxxx', 'xxxxxxxx', 'account', 'name', 'xxxx', 'xxxx', 'xxxx']\n"
     ]
    }
   ],
   "source": [
    "# Apply the clean_text function and then split each complaint into a list of words\n",
    "print(\"Preparing data for Word2Vec...\")\n",
    "X_train_tokens = [clean_text(complaint).split() for complaint in X_train]\n",
    "X_test_tokens = [clean_text(complaint).split() for complaint in X_test]\n",
    "\n",
    "print(f\"Example of tokenized data: {X_train_tokens[0]}\")"
   ]
  },
  {
   "cell_type": "code",
   "execution_count": 13,
   "id": "46800035",
   "metadata": {},
   "outputs": [
    {
     "name": "stdout",
     "output_type": "stream",
     "text": [
      "\n",
      "Training Word2Vec model...\n",
      "Word2Vec training complete.\n",
      "Word2Vec model saved to 'model_3_w2v.model'\n"
     ]
    }
   ],
   "source": [
    "# --- Train the Word2Vec Model ---\n",
    "print(\"\\nTraining Word2Vec model...\")\n",
    "# vector_size=100: Each word will be a 100-dimension vector\n",
    "# window=5:      Looks at 5 words before and 5 words after\n",
    "# min_count=2:   Ignores words that appear less than 2 times\n",
    "w2v_model = gensim.models.Word2Vec(X_train_tokens,\n",
    "                                   vector_size=100,\n",
    "                                   window=5,\n",
    "                                   min_count=2,\n",
    "                                   workers=4)\n",
    "print(\"Word2Vec training complete.\")\n",
    "\n",
    "# --- Save the Word2Vec Model ---\n",
    "w2v_filename = 'model_3_w2v.model'\n",
    "w2v_model.save(w2v_filename)\n",
    "print(f\"Word2Vec model saved to '{w2v_filename}'\")"
   ]
  },
  {
   "cell_type": "code",
   "execution_count": 14,
   "id": "214187fb",
   "metadata": {},
   "outputs": [
    {
     "name": "stdout",
     "output_type": "stream",
     "text": [
      "\n",
      "Vectorizing complaints using Word2Vec model...\n",
      "New training data shape: (22019, 100)\n",
      "New testing data shape:  (7340, 100)\n"
     ]
    }
   ],
   "source": [
    "def vectorize_complaints(complaints_tokens_list, model):\n",
    "    \"\"\"Averages the word vectors for all words in a single complaint.\"\"\"\n",
    "    vectors = []\n",
    "    for tokens in complaints_tokens_list:\n",
    "        # Get vectors for words that are in the model's vocabulary\n",
    "        word_vectors = [model.wv[word] for word in tokens if word in model.wv]\n",
    "        \n",
    "        if len(word_vectors) > 0:\n",
    "            # If we have vectors, average them\n",
    "            avg_vector = np.mean(word_vectors, axis=0)\n",
    "            vectors.append(avg_vector)\n",
    "        else:\n",
    "            # If no words are in vocab (e.g., \"Xxxx Xxxxx\"), create a zero vector\n",
    "            vectors.append(np.zeros(model.vector_size))\n",
    "            \n",
    "    return np.array(vectors)\n",
    "\n",
    "# --- Create our new training and testing data ---\n",
    "print(\"\\nVectorizing complaints using Word2Vec model...\")\n",
    "X_train_vecs = vectorize_complaints(X_train_tokens, w2v_model)\n",
    "X_test_vecs = vectorize_complaints(X_test_tokens, w2v_model)\n",
    "\n",
    "print(f\"New training data shape: {X_train_vecs.shape}\")\n",
    "print(f\"New testing data shape:  {X_test_vecs.shape}\")"
   ]
  },
  {
   "cell_type": "code",
   "execution_count": 15,
   "id": "73ca8fd1",
   "metadata": {},
   "outputs": [
    {
     "name": "stdout",
     "output_type": "stream",
     "text": [
      "\n",
      "Training Model 3 (Logistic Regression on W2V vectors)...\n",
      "Training complete.\n",
      "✅ Model 3 successfully trained and saved to 'model_3_lr.pkl'\n"
     ]
    }
   ],
   "source": [
    "# --- Define and Train Model 3 ---\n",
    "print(\"\\nTraining Model 3 (Logistic Regression on W2V vectors)...\")\n",
    "# Note: We are training this *only* on the new vector data\n",
    "model_3 = LogisticRegression(max_iter=1000, random_state=42)\n",
    "model_3.fit(X_train_vecs, y_train)\n",
    "print(\"Training complete.\")\n",
    "\n",
    "# --- Save the Model to Disk ---\n",
    "model_filename = 'model_3_lr.pkl'\n",
    "joblib.dump(model_3, model_filename)\n",
    "\n",
    "print(f\"✅ Model 3 successfully trained and saved to '{model_filename}'\")"
   ]
  },
  {
   "cell_type": "code",
   "execution_count": 16,
   "id": "c227df5b",
   "metadata": {},
   "outputs": [
    {
     "name": "stdout",
     "output_type": "stream",
     "text": [
      "\n",
      "--- Model 3 Performance (on Test Set) ---\n",
      "                             precision    recall  f1-score   support\n",
      "\n",
      "Checking or savings account       0.86      0.91      0.89       383\n",
      "           Credit Reporting       0.93      0.96      0.94      5638\n",
      "            Debt collection       0.76      0.56      0.64       958\n",
      "                   Mortgage       0.87      0.87      0.87       361\n",
      "\n",
      "                   accuracy                           0.90      7340\n",
      "                  macro avg       0.85      0.83      0.84      7340\n",
      "               weighted avg       0.90      0.90      0.90      7340\n",
      "\n"
     ]
    }
   ],
   "source": [
    "# Get predictions on the test set\n",
    "y_pred_3 = model_3.predict(X_test_vecs)\n",
    "\n",
    "# Print a detailed classification report\n",
    "print(\"\\n--- Model 3 Performance (on Test Set) ---\")\n",
    "print(classification_report(y_test, y_pred_3))"
   ]
  },
  {
   "cell_type": "markdown",
   "id": "f7acca4b",
   "metadata": {},
   "source": [
    "# Model 4: LSTM (with Keras)"
   ]
  },
  {
   "cell_type": "code",
   "execution_count": 17,
   "id": "076cc818",
   "metadata": {},
   "outputs": [
    {
     "name": "stdout",
     "output_type": "stream",
     "text": [
      "Cleaning text for LSTM...\n"
     ]
    }
   ],
   "source": [
    "import pandas as pd\n",
    "import numpy as np\n",
    "import joblib\n",
    "import gensim\n",
    "import tensorflow as tf\n",
    "from tensorflow.keras.models import Sequential\n",
    "from tensorflow.keras.layers import LSTM, Dense, Embedding, Dropout\n",
    "from tensorflow.keras.preprocessing.text import Tokenizer\n",
    "from tensorflow.keras.preprocessing.sequence import pad_sequences\n",
    "from sklearn.preprocessing import LabelEncoder\n",
    "from sklearn.model_selection import train_test_split\n",
    "from sklearn.metrics import classification_report\n",
    "\n",
    "# We will need to re-load our clean data\n",
    "df = pd.read_csv('complaints_final_clean.csv')\n",
    "\n",
    "# --- We will use our *cleaned* text for this ---\n",
    "# (We can re-use the `clean_text` function from Model 1)\n",
    "print(\"Cleaning text for LSTM...\")\n",
    "df['cleaned_text'] = df['text'].apply(clean_text)"
   ]
  },
  {
   "cell_type": "code",
   "execution_count": 18,
   "id": "faaa7b8d",
   "metadata": {},
   "outputs": [
    {
     "name": "stdout",
     "output_type": "stream",
     "text": [
      "Label encoder saved. Classes: ['Checking or savings account' 'Credit Reporting' 'Debt collection'\n",
      " 'Mortgage']\n",
      "Found 28461 unique tokens.\n",
      "Padded sequence data (X_train_seq) shape: (22019, 150)\n",
      "Labels (y_train_seq) shape: (22019,)\n"
     ]
    }
   ],
   "source": [
    "# --- 1. Create Numerical Labels ---\n",
    "le = LabelEncoder()\n",
    "df['label'] = le.fit_transform(df['category'])\n",
    "\n",
    "# Save the label encoder for our app\n",
    "joblib.dump(le, 'model_4_label_encoder.pkl')\n",
    "print(f\"Label encoder saved. Classes: {le.classes_}\")\n",
    "\n",
    "# --- 2. Tokenize and Pad Sequences ---\n",
    "# We'll use the top 10,000 most common words\n",
    "MAX_NUM_WORDS = 10000\n",
    "# We'll pad/truncate every complaint to be 150 words long\n",
    "MAX_SEQ_LENGTH = 150\n",
    "\n",
    "# Create the Keras tokenizer\n",
    "tokenizer = Tokenizer(num_words=MAX_NUM_WORDS)\n",
    "tokenizer.fit_on_texts(df['cleaned_text'])\n",
    "\n",
    "# Convert text to sequences of integers\n",
    "sequences = tokenizer.texts_to_sequences(df['cleaned_text'])\n",
    "\n",
    "# Pad the sequences\n",
    "X = pad_sequences(sequences, maxlen=MAX_SEQ_LENGTH)\n",
    "y = df['label'].values\n",
    "\n",
    "# Get the word-to-index mapping from our tokenizer\n",
    "word_index = tokenizer.word_index\n",
    "print(f'Found {len(word_index)} unique tokens.')\n",
    "\n",
    "# Save the tokenizer for our app\n",
    "joblib.dump(tokenizer, 'model_4_keras_tokenizer.pkl')\n",
    "\n",
    "# --- 3. Split the Data ---\n",
    "# We MUST use the same random_state=42 to keep the test set consistent!\n",
    "X_train_seq, X_test_seq, y_train_seq, y_test_seq = train_test_split(X, y, test_size=0.25, random_state=42, stratify=y)\n",
    "\n",
    "print(f\"Padded sequence data (X_train_seq) shape: {X_train_seq.shape}\")\n",
    "print(f\"Labels (y_train_seq) shape: {y_train_seq.shape}\")"
   ]
  },
  {
   "cell_type": "code",
   "execution_count": 19,
   "id": "cdec3f85",
   "metadata": {},
   "outputs": [
    {
     "name": "stdout",
     "output_type": "stream",
     "text": [
      "Embedding matrix created.\n"
     ]
    }
   ],
   "source": [
    "# Load our pre-trained Word2Vec model\n",
    "w2v_model = gensim.models.Word2Vec.load('model_3_w2v.model')\n",
    "\n",
    "# Get the vector size (should be 100)\n",
    "EMBEDDING_DIM = w2v_model.vector_size\n",
    "\n",
    "# Create a matrix of zeros\n",
    "# We add 1 because word_index starts at 1 (0 is reserved for padding)\n",
    "num_words = min(MAX_NUM_WORDS, len(word_index) + 1)\n",
    "embedding_matrix = np.zeros((num_words, EMBEDDING_DIM))\n",
    "\n",
    "# Fill the matrix with our Word2Vec vectors\n",
    "for word, i in word_index.items():\n",
    "    if i >= MAX_NUM_WORDS:\n",
    "        continue\n",
    "    if word in w2v_model.wv:\n",
    "        embedding_matrix[i] = w2v_model.wv[word]\n",
    "\n",
    "print(\"Embedding matrix created.\")"
   ]
  },
  {
   "cell_type": "code",
   "execution_count": 20,
   "id": "adef1ee6",
   "metadata": {},
   "outputs": [
    {
     "name": "stderr",
     "output_type": "stream",
     "text": [
      "c:\\Python312\\Lib\\site-packages\\keras\\src\\layers\\core\\embedding.py:90: UserWarning: Argument `input_length` is deprecated. Just remove it.\n",
      "  warnings.warn(\n"
     ]
    },
    {
     "data": {
      "text/html": [
       "<pre style=\"white-space:pre;overflow-x:auto;line-height:normal;font-family:Menlo,'DejaVu Sans Mono',consolas,'Courier New',monospace\"><span style=\"font-weight: bold\">Model: \"sequential\"</span>\n",
       "</pre>\n"
      ],
      "text/plain": [
       "\u001b[1mModel: \"sequential\"\u001b[0m\n"
      ]
     },
     "metadata": {},
     "output_type": "display_data"
    },
    {
     "data": {
      "text/html": [
       "<pre style=\"white-space:pre;overflow-x:auto;line-height:normal;font-family:Menlo,'DejaVu Sans Mono',consolas,'Courier New',monospace\">┏━━━━━━━━━━━━━━━━━━━━━━━━━━━━━━━━━┳━━━━━━━━━━━━━━━━━━━━━━━━┳━━━━━━━━━━━━━━━┓\n",
       "┃<span style=\"font-weight: bold\"> Layer (type)                    </span>┃<span style=\"font-weight: bold\"> Output Shape           </span>┃<span style=\"font-weight: bold\">       Param # </span>┃\n",
       "┡━━━━━━━━━━━━━━━━━━━━━━━━━━━━━━━━━╇━━━━━━━━━━━━━━━━━━━━━━━━╇━━━━━━━━━━━━━━━┩\n",
       "│ embedding (<span style=\"color: #0087ff; text-decoration-color: #0087ff\">Embedding</span>)           │ ?                      │     <span style=\"color: #00af00; text-decoration-color: #00af00\">1,000,000</span> │\n",
       "├─────────────────────────────────┼────────────────────────┼───────────────┤\n",
       "│ lstm (<span style=\"color: #0087ff; text-decoration-color: #0087ff\">LSTM</span>)                     │ ?                      │   <span style=\"color: #00af00; text-decoration-color: #00af00\">0</span> (unbuilt) │\n",
       "├─────────────────────────────────┼────────────────────────┼───────────────┤\n",
       "│ dense (<span style=\"color: #0087ff; text-decoration-color: #0087ff\">Dense</span>)                   │ ?                      │   <span style=\"color: #00af00; text-decoration-color: #00af00\">0</span> (unbuilt) │\n",
       "└─────────────────────────────────┴────────────────────────┴───────────────┘\n",
       "</pre>\n"
      ],
      "text/plain": [
       "┏━━━━━━━━━━━━━━━━━━━━━━━━━━━━━━━━━┳━━━━━━━━━━━━━━━━━━━━━━━━┳━━━━━━━━━━━━━━━┓\n",
       "┃\u001b[1m \u001b[0m\u001b[1mLayer (type)                   \u001b[0m\u001b[1m \u001b[0m┃\u001b[1m \u001b[0m\u001b[1mOutput Shape          \u001b[0m\u001b[1m \u001b[0m┃\u001b[1m \u001b[0m\u001b[1m      Param #\u001b[0m\u001b[1m \u001b[0m┃\n",
       "┡━━━━━━━━━━━━━━━━━━━━━━━━━━━━━━━━━╇━━━━━━━━━━━━━━━━━━━━━━━━╇━━━━━━━━━━━━━━━┩\n",
       "│ embedding (\u001b[38;5;33mEmbedding\u001b[0m)           │ ?                      │     \u001b[38;5;34m1,000,000\u001b[0m │\n",
       "├─────────────────────────────────┼────────────────────────┼───────────────┤\n",
       "│ lstm (\u001b[38;5;33mLSTM\u001b[0m)                     │ ?                      │   \u001b[38;5;34m0\u001b[0m (unbuilt) │\n",
       "├─────────────────────────────────┼────────────────────────┼───────────────┤\n",
       "│ dense (\u001b[38;5;33mDense\u001b[0m)                   │ ?                      │   \u001b[38;5;34m0\u001b[0m (unbuilt) │\n",
       "└─────────────────────────────────┴────────────────────────┴───────────────┘\n"
      ]
     },
     "metadata": {},
     "output_type": "display_data"
    },
    {
     "data": {
      "text/html": [
       "<pre style=\"white-space:pre;overflow-x:auto;line-height:normal;font-family:Menlo,'DejaVu Sans Mono',consolas,'Courier New',monospace\"><span style=\"font-weight: bold\"> Total params: </span><span style=\"color: #00af00; text-decoration-color: #00af00\">1,000,000</span> (3.81 MB)\n",
       "</pre>\n"
      ],
      "text/plain": [
       "\u001b[1m Total params: \u001b[0m\u001b[38;5;34m1,000,000\u001b[0m (3.81 MB)\n"
      ]
     },
     "metadata": {},
     "output_type": "display_data"
    },
    {
     "data": {
      "text/html": [
       "<pre style=\"white-space:pre;overflow-x:auto;line-height:normal;font-family:Menlo,'DejaVu Sans Mono',consolas,'Courier New',monospace\"><span style=\"font-weight: bold\"> Trainable params: </span><span style=\"color: #00af00; text-decoration-color: #00af00\">0</span> (0.00 B)\n",
       "</pre>\n"
      ],
      "text/plain": [
       "\u001b[1m Trainable params: \u001b[0m\u001b[38;5;34m0\u001b[0m (0.00 B)\n"
      ]
     },
     "metadata": {},
     "output_type": "display_data"
    },
    {
     "data": {
      "text/html": [
       "<pre style=\"white-space:pre;overflow-x:auto;line-height:normal;font-family:Menlo,'DejaVu Sans Mono',consolas,'Courier New',monospace\"><span style=\"font-weight: bold\"> Non-trainable params: </span><span style=\"color: #00af00; text-decoration-color: #00af00\">1,000,000</span> (3.81 MB)\n",
       "</pre>\n"
      ],
      "text/plain": [
       "\u001b[1m Non-trainable params: \u001b[0m\u001b[38;5;34m1,000,000\u001b[0m (3.81 MB)\n"
      ]
     },
     "metadata": {},
     "output_type": "display_data"
    },
    {
     "name": "stdout",
     "output_type": "stream",
     "text": [
      "None\n",
      "\n",
      "Training Model 4 (LSTM)...\n",
      "Epoch 1/5\n",
      "\u001b[1m310/310\u001b[0m \u001b[32m━━━━━━━━━━━━━━━━━━━━\u001b[0m\u001b[37m\u001b[0m \u001b[1m17s\u001b[0m 50ms/step - accuracy: 0.7794 - loss: 0.6126 - val_accuracy: 0.9010 - val_loss: 0.2947\n",
      "Epoch 2/5\n",
      "\u001b[1m310/310\u001b[0m \u001b[32m━━━━━━━━━━━━━━━━━━━━\u001b[0m\u001b[37m\u001b[0m \u001b[1m13s\u001b[0m 41ms/step - accuracy: 0.8929 - loss: 0.3032 - val_accuracy: 0.9087 - val_loss: 0.2568\n",
      "Epoch 3/5\n",
      "\u001b[1m310/310\u001b[0m \u001b[32m━━━━━━━━━━━━━━━━━━━━\u001b[0m\u001b[37m\u001b[0m \u001b[1m13s\u001b[0m 42ms/step - accuracy: 0.9009 - loss: 0.2805 - val_accuracy: 0.9137 - val_loss: 0.2407\n",
      "Epoch 4/5\n",
      "\u001b[1m310/310\u001b[0m \u001b[32m━━━━━━━━━━━━━━━━━━━━\u001b[0m\u001b[37m\u001b[0m \u001b[1m13s\u001b[0m 42ms/step - accuracy: 0.9121 - loss: 0.2451 - val_accuracy: 0.9187 - val_loss: 0.2291\n",
      "Epoch 5/5\n",
      "\u001b[1m310/310\u001b[0m \u001b[32m━━━━━━━━━━━━━━━━━━━━\u001b[0m\u001b[37m\u001b[0m \u001b[1m13s\u001b[0m 42ms/step - accuracy: 0.9208 - loss: 0.2303 - val_accuracy: 0.9242 - val_loss: 0.2181\n"
     ]
    },
    {
     "name": "stderr",
     "output_type": "stream",
     "text": [
      "WARNING:absl:You are saving your model as an HDF5 file via `model.save()` or `keras.saving.save_model(model)`. This file format is considered legacy. We recommend using instead the native Keras format, e.g. `model.save('my_model.keras')` or `keras.saving.save_model(model, 'my_model.keras')`. \n"
     ]
    },
    {
     "name": "stdout",
     "output_type": "stream",
     "text": [
      "Training complete.\n",
      "✅ Model 4 successfully trained and saved to 'model_4_lstm.h5'\n"
     ]
    }
   ],
   "source": [
    "# --- 1. Define the Model Architecture ---\n",
    "model_4 = Sequential()\n",
    "\n",
    "# The Embedding layer (Layer 1)\n",
    "# This is the \"dictionary\" for our model.\n",
    "# We set `trainable=False` to *freeze* our Word2Vec weights.\n",
    "model_4.add(Embedding(input_dim=num_words,\n",
    "                      output_dim=EMBEDDING_DIM,\n",
    "                      weights=[embedding_matrix],\n",
    "                      input_length=MAX_SEQ_LENGTH,\n",
    "                      trainable=False))\n",
    "\n",
    "# The LSTM layer (Layer 2)\n",
    "# This is the \"brain\" that reads the sequence.\n",
    "model_4.add(LSTM(64, dropout=0.2)) # 64 is the number of memory units\n",
    "\n",
    "# The Output layer (Layer 3)\n",
    "# A standard \"Dense\" layer to make the final classification.\n",
    "# The activation is 'softmax' because this is a multi-class problem.\n",
    "num_classes = len(le.classes_)\n",
    "model_4.add(Dense(num_classes, activation='softmax'))\n",
    "\n",
    "# Compile the model\n",
    "model_4.compile(loss='sparse_categorical_crossentropy',\n",
    "                optimizer='adam',\n",
    "                metrics=['accuracy'])\n",
    "\n",
    "print(model_4.summary())\n",
    "\n",
    "# --- 2. Train the Model ---\n",
    "print(\"\\nTraining Model 4 (LSTM)...\")\n",
    "# We'll use 5 epochs and use 10% of our training data for validation\n",
    "history = model_4.fit(X_train_seq, y_train_seq,\n",
    "                      epochs=5,\n",
    "                      batch_size=64,\n",
    "                      validation_split=0.1,\n",
    "                      verbose=1)\n",
    "\n",
    "print(\"Training complete.\")\n",
    "\n",
    "# --- 3. Save the Model ---\n",
    "model_filename = 'model_4_lstm.h5'\n",
    "model_4.save(model_filename)\n",
    "print(f\"✅ Model 4 successfully trained and saved to '{model_filename}'\")"
   ]
  },
  {
   "cell_type": "code",
   "execution_count": 21,
   "id": "d7906a2f",
   "metadata": {},
   "outputs": [
    {
     "name": "stdout",
     "output_type": "stream",
     "text": [
      "\n",
      "--- Model 4 Performance (on Test Set) ---\n",
      "\u001b[1m230/230\u001b[0m \u001b[32m━━━━━━━━━━━━━━━━━━━━\u001b[0m\u001b[37m\u001b[0m \u001b[1m3s\u001b[0m 11ms/step\n",
      "                             precision    recall  f1-score   support\n",
      "\n",
      "Checking or savings account       0.86      0.93      0.89       383\n",
      "           Credit Reporting       0.95      0.96      0.96      5638\n",
      "            Debt collection       0.78      0.70      0.74       958\n",
      "                   Mortgage       0.91      0.87      0.89       361\n",
      "\n",
      "                   accuracy                           0.92      7340\n",
      "                  macro avg       0.87      0.87      0.87      7340\n",
      "               weighted avg       0.92      0.92      0.92      7340\n",
      "\n"
     ]
    }
   ],
   "source": [
    "# --- Evaluate the Model ---\n",
    "print(\"\\n--- Model 4 Performance (on Test Set) ---\")\n",
    "y_pred_probs = model_4.predict(X_test_seq)\n",
    "y_pred_4 = np.argmax(y_pred_probs, axis=1) # Get the class with the highest probability\n",
    "\n",
    "# Use the label encoder to get the *names* of the classes\n",
    "target_names = le.classes_\n",
    "print(classification_report(y_test_seq, y_pred_4, target_names=target_names))"
   ]
  },
  {
   "cell_type": "markdown",
   "id": "715f1096",
   "metadata": {},
   "source": [
    "# Model 5: Fine-Tuned DistilBERT (Transformer)"
   ]
  },
  {
   "cell_type": "code",
   "execution_count": 3,
   "id": "bc895a8c",
   "metadata": {},
   "outputs": [
    {
     "name": "stdout",
     "output_type": "stream",
     "text": [
      "Label to ID mapping created:\n",
      "{'Credit Reporting': 0, 'Checking or savings account': 1, 'Debt collection': 2, 'Mortgage': 3}\n"
     ]
    }
   ],
   "source": [
    "import pandas as pd\n",
    "from sklearn.model_selection import train_test_split\n",
    "from datasets import Dataset, DatasetDict\n",
    "from transformers import AutoTokenizer, AutoModelForSequenceClassification, TrainingArguments, Trainer\n",
    "import numpy as np\n",
    "import evaluate # Hugging Face's evaluation library\n",
    "\n",
    "# We will need to re-load our clean data\n",
    "df = pd.read_csv('complaints_final_clean.csv')\n",
    "\n",
    "# --- IMPORTANT: Create a mapping from category name (string) to ID (int) ---\n",
    "# Transformers models need numerical labels for classification\n",
    "labels = df['category'].unique()\n",
    "label2id = {label: i for i, label in enumerate(labels)}\n",
    "id2label = {i: label for i, label in enumerate(labels)}\n",
    "\n",
    "# Add a new 'label' column to our DataFrame with the integer IDs\n",
    "df['label'] = df['category'].map(label2id)\n",
    "\n",
    "print(\"Label to ID mapping created:\")\n",
    "print(label2id)"
   ]
  },
  {
   "cell_type": "code",
   "execution_count": 4,
   "id": "fc2da309",
   "metadata": {},
   "outputs": [
    {
     "name": "stdout",
     "output_type": "stream",
     "text": [
      "\n",
      "Dataset structure:\n",
      "DatasetDict({\n",
      "    train: Dataset({\n",
      "        features: ['text', 'category', 'label', '__index_level_0__'],\n",
      "        num_rows: 22019\n",
      "    })\n",
      "    test: Dataset({\n",
      "        features: ['text', 'category', 'label', '__index_level_0__'],\n",
      "        num_rows: 7340\n",
      "    })\n",
      "})\n"
     ]
    }
   ],
   "source": [
    "# First, split using sklearn to ensure the exact same split\n",
    "train_df, test_df = train_test_split(df, test_size=0.25, random_state=42, stratify=df['category'])\n",
    "\n",
    "# Convert the pandas DataFrames into Hugging Face's `Dataset` format\n",
    "train_dataset = Dataset.from_pandas(train_df)\n",
    "test_dataset = Dataset.from_pandas(test_df)\n",
    "\n",
    "# Combine them into a DatasetDict (the format the Trainer expects)\n",
    "ds = DatasetDict({\n",
    "    'train': train_dataset,\n",
    "    'test': test_dataset\n",
    "})\n",
    "\n",
    "print(\"\\nDataset structure:\")\n",
    "print(ds)"
   ]
  },
  {
   "cell_type": "code",
   "execution_count": 5,
   "id": "728baf23",
   "metadata": {},
   "outputs": [
    {
     "data": {
      "application/vnd.jupyter.widget-view+json": {
       "model_id": "9764a30ef8484a24a2c68a423477fccf",
       "version_major": 2,
       "version_minor": 0
      },
      "text/plain": [
       "tokenizer_config.json:   0%|          | 0.00/48.0 [00:00<?, ?B/s]"
      ]
     },
     "metadata": {},
     "output_type": "display_data"
    },
    {
     "name": "stderr",
     "output_type": "stream",
     "text": [
      "C:\\Users\\ASUS\\AppData\\Roaming\\Python\\Python312\\site-packages\\huggingface_hub\\file_download.py:140: UserWarning: `huggingface_hub` cache-system uses symlinks by default to efficiently store duplicated files but your machine does not support them in C:\\Users\\ASUS\\.cache\\huggingface\\hub\\models--distilbert-base-uncased. Caching files will still work but in a degraded version that might require more space on your disk. This warning can be disabled by setting the `HF_HUB_DISABLE_SYMLINKS_WARNING` environment variable. For more details, see https://huggingface.co/docs/huggingface_hub/how-to-cache#limitations.\n",
      "To support symlinks on Windows, you either need to activate Developer Mode or to run Python as an administrator. In order to activate developer mode, see this article: https://docs.microsoft.com/en-us/windows/apps/get-started/enable-your-device-for-development\n",
      "  warnings.warn(message)\n"
     ]
    },
    {
     "data": {
      "application/vnd.jupyter.widget-view+json": {
       "model_id": "769a682ea1604b398a23b2bff091a7a3",
       "version_major": 2,
       "version_minor": 0
      },
      "text/plain": [
       "config.json:   0%|          | 0.00/483 [00:00<?, ?B/s]"
      ]
     },
     "metadata": {},
     "output_type": "display_data"
    },
    {
     "data": {
      "application/vnd.jupyter.widget-view+json": {
       "model_id": "ff0d016d89964b37bf752862cc34a7a5",
       "version_major": 2,
       "version_minor": 0
      },
      "text/plain": [
       "vocab.txt:   0%|          | 0.00/232k [00:00<?, ?B/s]"
      ]
     },
     "metadata": {},
     "output_type": "display_data"
    },
    {
     "data": {
      "application/vnd.jupyter.widget-view+json": {
       "model_id": "7daf6debe2c7419b9c098de529fb092d",
       "version_major": 2,
       "version_minor": 0
      },
      "text/plain": [
       "tokenizer.json:   0%|          | 0.00/466k [00:00<?, ?B/s]"
      ]
     },
     "metadata": {},
     "output_type": "display_data"
    },
    {
     "data": {
      "application/vnd.jupyter.widget-view+json": {
       "model_id": "1bc1cec723a0478b93318a2aef6c1126",
       "version_major": 2,
       "version_minor": 0
      },
      "text/plain": [
       "Map:   0%|          | 0/22019 [00:00<?, ? examples/s]"
      ]
     },
     "metadata": {},
     "output_type": "display_data"
    },
    {
     "data": {
      "application/vnd.jupyter.widget-view+json": {
       "model_id": "6d62ecea088a4cca87bd7726d350c7ca",
       "version_major": 2,
       "version_minor": 0
      },
      "text/plain": [
       "Map:   0%|          | 0/7340 [00:00<?, ? examples/s]"
      ]
     },
     "metadata": {},
     "output_type": "display_data"
    },
    {
     "name": "stdout",
     "output_type": "stream",
     "text": [
      "\n",
      "Tokenized dataset structure:\n",
      "DatasetDict({\n",
      "    train: Dataset({\n",
      "        features: ['text', 'category', 'label', '__index_level_0__', 'input_ids', 'attention_mask'],\n",
      "        num_rows: 22019\n",
      "    })\n",
      "    test: Dataset({\n",
      "        features: ['text', 'category', 'label', '__index_level_0__', 'input_ids', 'attention_mask'],\n",
      "        num_rows: 7340\n",
      "    })\n",
      "})\n"
     ]
    }
   ],
   "source": [
    "# Load the tokenizer for DistilBERT\n",
    "tokenizer = AutoTokenizer.from_pretrained('distilbert-base-uncased')\n",
    "\n",
    "# Create a function to tokenize our text\n",
    "def preprocess_function(examples):\n",
    "    # The tokenizer will handle the text. `truncation=True` cuts off\n",
    "    # complaints that are too long. `padding=True` is also good.\n",
    "    return tokenizer(examples['text'], truncation=True, padding=True)\n",
    "\n",
    "# Apply the tokenization to our entire dataset in batches\n",
    "tokenized_ds = ds.map(preprocess_function, batched=True)\n",
    "\n",
    "print(\"\\nTokenized dataset structure:\")\n",
    "print(tokenized_ds)"
   ]
  },
  {
   "cell_type": "code",
   "execution_count": 6,
   "id": "ee4ba42e",
   "metadata": {},
   "outputs": [
    {
     "data": {
      "application/vnd.jupyter.widget-view+json": {
       "model_id": "26835bfbae1f46f88ed42a897112569f",
       "version_major": 2,
       "version_minor": 0
      },
      "text/plain": [
       "model.safetensors:   0%|          | 0.00/268M [00:00<?, ?B/s]"
      ]
     },
     "metadata": {},
     "output_type": "display_data"
    },
    {
     "name": "stderr",
     "output_type": "stream",
     "text": [
      "Some weights of DistilBertForSequenceClassification were not initialized from the model checkpoint at distilbert-base-uncased and are newly initialized: ['classifier.bias', 'classifier.weight', 'pre_classifier.bias', 'pre_classifier.weight']\n",
      "You should probably TRAIN this model on a down-stream task to be able to use it for predictions and inference.\n"
     ]
    },
    {
     "data": {
      "application/vnd.jupyter.widget-view+json": {
       "model_id": "fc991ab440c648d3b470b6664402dcce",
       "version_major": 2,
       "version_minor": 0
      },
      "text/plain": [
       "Downloading builder script: 0.00B [00:00, ?B/s]"
      ]
     },
     "metadata": {},
     "output_type": "display_data"
    },
    {
     "name": "stderr",
     "output_type": "stream",
     "text": [
      "C:\\Users\\ASUS\\AppData\\Roaming\\Python\\Python312\\site-packages\\transformers\\training_args.py:1575: FutureWarning: `evaluation_strategy` is deprecated and will be removed in version 4.46 of 🤗 Transformers. Use `eval_strategy` instead\n",
      "  warnings.warn(\n",
      "C:\\Users\\ASUS\\AppData\\Local\\Temp\\ipykernel_6172\\1113478212.py:33: FutureWarning: `tokenizer` is deprecated and will be removed in version 5.0.0 for `Trainer.__init__`. Use `processing_class` instead.\n",
      "  trainer = Trainer(\n"
     ]
    }
   ],
   "source": [
    "# Load the pre-trained DistilBERT model\n",
    "# We tell it the number of labels and our new id2label mapping\n",
    "model = AutoModelForSequenceClassification.from_pretrained(\n",
    "    'distilbert-base-uncased', \n",
    "    num_labels=len(labels),\n",
    "    id2label=id2label,\n",
    "    label2id=label2id\n",
    ")\n",
    "\n",
    "# Load the \"accuracy\" metric\n",
    "metric = evaluate.load(\"accuracy\")\n",
    "\n",
    "def compute_metrics(eval_pred):\n",
    "    \"\"\"Calculates accuracy during evaluation.\"\"\"\n",
    "    logits, labels = eval_pred\n",
    "    predictions = np.argmax(logits, axis=-1)\n",
    "    return metric.compute(predictions=predictions, references=labels)\n",
    "\n",
    "# Define the Training Arguments\n",
    "training_args = TrainingArguments(\n",
    "    output_dir=\"model_5_distilbert_checkpoints\", # Where to save checkpoints\n",
    "    learning_rate=2e-5,\n",
    "    per_device_train_batch_size=16,\n",
    "    per_device_eval_batch_size=16,\n",
    "    num_train_epochs=3, # 3 epochs is a good starting point\n",
    "    weight_decay=0.01,\n",
    "    evaluation_strategy=\"epoch\", # Evaluate at the end of each epoch\n",
    "    save_strategy=\"epoch\",       # Save at the end of each epoch\n",
    "    load_best_model_at_end=True, # Will load the best model (by loss)\n",
    ")\n",
    "\n",
    "# Initialize the Trainer\n",
    "trainer = Trainer(\n",
    "    model=model,\n",
    "    args=training_args,\n",
    "    train_dataset=tokenized_ds[\"train\"],\n",
    "    eval_dataset=tokenized_ds[\"test\"],\n",
    "    tokenizer=tokenizer,\n",
    "    compute_metrics=compute_metrics,\n",
    ")"
   ]
  },
  {
   "cell_type": "code",
   "execution_count": 8,
   "id": "17ef6709",
   "metadata": {},
   "outputs": [
    {
     "name": "stdout",
     "output_type": "stream",
     "text": [
      "--- 🥳 SUCCESS! ---\n",
      "CUDA is available. PyTorch can see your GPU.\n",
      "Device Name: NVIDIA GeForce RTX 3050 Laptop GPU\n"
     ]
    }
   ],
   "source": [
    "import torch\n",
    "\n",
    "# Check if CUDA (GPU) is available\n",
    "is_cuda_available = torch.cuda.is_available()\n",
    "\n",
    "if is_cuda_available:\n",
    "    print(\"--- 🥳 SUCCESS! ---\")\n",
    "    print(f\"CUDA is available. PyTorch can see your GPU.\")\n",
    "    print(f\"Device Name: {torch.cuda.get_device_name(0)}\")\n",
    "else:\n",
    "    print(\"--- ⚠️ WARNING ---\")\n",
    "    print(\"CUDA is NOT available. PyTorch cannot see your GPU.\")\n",
    "    print(\"Training will run on the CPU (which will be very slow).\")\n",
    "    print(\"Make sure you have PyTorch with CUDA support installed in this environment.\")"
   ]
  },
  {
   "cell_type": "code",
   "execution_count": 9,
   "id": "6766c5a3",
   "metadata": {},
   "outputs": [
    {
     "name": "stdout",
     "output_type": "stream",
     "text": [
      "\n",
      "Training Model 5 (DistilBERT) on GPU...\n",
      "This will be much faster now. 🚀\n"
     ]
    },
    {
     "data": {
      "text/html": [
       "\n",
       "    <div>\n",
       "      \n",
       "      <progress value='4131' max='4131' style='width:300px; height:20px; vertical-align: middle;'></progress>\n",
       "      [4131/4131 1:03:32, Epoch 3/3]\n",
       "    </div>\n",
       "    <table border=\"1\" class=\"dataframe\">\n",
       "  <thead>\n",
       " <tr style=\"text-align: left;\">\n",
       "      <th>Epoch</th>\n",
       "      <th>Training Loss</th>\n",
       "      <th>Validation Loss</th>\n",
       "      <th>Accuracy</th>\n",
       "    </tr>\n",
       "  </thead>\n",
       "  <tbody>\n",
       "    <tr>\n",
       "      <td>1</td>\n",
       "      <td>0.235700</td>\n",
       "      <td>0.224421</td>\n",
       "      <td>0.927520</td>\n",
       "    </tr>\n",
       "    <tr>\n",
       "      <td>2</td>\n",
       "      <td>0.165400</td>\n",
       "      <td>0.226838</td>\n",
       "      <td>0.932425</td>\n",
       "    </tr>\n",
       "    <tr>\n",
       "      <td>3</td>\n",
       "      <td>0.121400</td>\n",
       "      <td>0.245548</td>\n",
       "      <td>0.933787</td>\n",
       "    </tr>\n",
       "  </tbody>\n",
       "</table><p>"
      ],
      "text/plain": [
       "<IPython.core.display.HTML object>"
      ]
     },
     "metadata": {},
     "output_type": "display_data"
    },
    {
     "name": "stdout",
     "output_type": "stream",
     "text": [
      "Training complete.\n",
      "✅ Model 5 successfully trained and saved to 'model_5_distilbert_final'\n"
     ]
    }
   ],
   "source": [
    "# --- Train the Model (This will now use your GPU) ---\n",
    "print(\"\\nTraining Model 5 (DistilBERT) on GPU...\")\n",
    "print(\"This will be much faster now. 🚀\")\n",
    "trainer.train()\n",
    "print(\"Training complete.\")\n",
    "\n",
    "# --- Save the Final Model ---\n",
    "model_directory = \"model_5_distilbert_final\"\n",
    "trainer.save_model(model_directory)\n",
    "tokenizer.save_pretrained(model_directory) # Save the tokenizer with the model\n",
    "print(f\"✅ Model 5 successfully trained and saved to '{model_directory}'\")\n"
   ]
  },
  {
   "cell_type": "code",
   "execution_count": 11,
   "id": "13d9a075",
   "metadata": {},
   "outputs": [
    {
     "data": {
      "text/html": [],
      "text/plain": [
       "<IPython.core.display.HTML object>"
      ]
     },
     "metadata": {},
     "output_type": "display_data"
    },
    {
     "name": "stdout",
     "output_type": "stream",
     "text": [
      "\n",
      "--- Model 5 Performance (on Test Set) ---\n",
      "Accuracy: 0.9275\n",
      "Loss: 0.2244\n",
      "\n",
      "--- Full Classification Report ---\n",
      "                             precision    recall  f1-score   support\n",
      "\n",
      "           Credit Reporting       0.95      0.97      0.96      5638\n",
      "Checking or savings account       0.85      0.97      0.91       383\n",
      "            Debt collection       0.83      0.66      0.74       958\n",
      "                   Mortgage       0.93      0.88      0.90       361\n",
      "\n",
      "                   accuracy                           0.93      7340\n",
      "                  macro avg       0.89      0.87      0.88      7340\n",
      "               weighted avg       0.93      0.93      0.92      7340\n",
      "\n"
     ]
    }
   ],
   "source": [
    "from sklearn.metrics import classification_report\n",
    "\n",
    "# Run the final evaluation\n",
    "eval_results = trainer.evaluate()\n",
    "\n",
    "print(\"\\n--- Model 5 Performance (on Test Set) ---\")\n",
    "print(f\"Accuracy: {eval_results['eval_accuracy']:.4f}\")\n",
    "print(f\"Loss: {eval_results['eval_loss']:.4f}\")\n",
    "\n",
    "# To get the full classification report, we'll do one extra step\n",
    "print(\"\\n--- Full Classification Report ---\")\n",
    "predictions = trainer.predict(tokenized_ds[\"test\"])\n",
    "y_pred_5 = np.argmax(predictions.predictions, axis=-1)\n",
    "y_test_labels = tokenized_ds[\"test\"][\"label\"]\n",
    "\n",
    "# We need the *names* of the labels, not the IDs\n",
    "target_names = [id2label[i] for i in range(len(labels))]\n",
    "print(classification_report(y_test_labels, y_pred_5, target_names=target_names))"
   ]
  }
 ],
 "metadata": {
  "kernelspec": {
   "display_name": "Python 3",
   "language": "python",
   "name": "python3"
  },
  "language_info": {
   "codemirror_mode": {
    "name": "ipython",
    "version": 3
   },
   "file_extension": ".py",
   "mimetype": "text/x-python",
   "name": "python",
   "nbconvert_exporter": "python",
   "pygments_lexer": "ipython3",
   "version": "3.12.6"
  }
 },
 "nbformat": 4,
 "nbformat_minor": 5
}
